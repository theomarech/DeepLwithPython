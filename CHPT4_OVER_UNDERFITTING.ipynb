{
 "cells": [
  {
   "cell_type": "markdown",
   "id": "improving-budapest",
   "metadata": {},
   "source": [
    "# CHPT 4 - Sur-ajustement et sous-ajustement : identification et résolution\n",
    "\n",
    "- outre l'utilisation de réseaux de neurones de capacité différentes (nombre de couche, taille des couches) deux méthodes sont couramment employées pour éviter le sur-ajustement\n",
    "- l'ajout de régularisation sur les coefficients des couches (L1 ou L2) plus souvent L2\n",
    "- l'ajout de dropout après les couches permettant d'éteindre aléatoirement des neuronesdans la couche précédentes (souvent entre 20 et 50 %)\n",
    "\n",
    "## Régularisation norme l1 et l2"
   ]
  },
  {
   "cell_type": "code",
   "execution_count": 13,
   "id": "marine-logan",
   "metadata": {},
   "outputs": [],
   "source": [
    "from keras.datasets import imdb\n",
    "import numpy as np\n",
    "\n",
    "(train_data,train_labels),(test_data,test_labels) = imdb.load_data(num_words = 10000)\n",
    "\n",
    "def vectorize_data(sequences,dimension=10000):\n",
    "    results = np.zeros((len(sequences),dimension))\n",
    "    for i, sequence in enumerate(sequences):\n",
    "        results[i,sequence]=1\n",
    "    return results\n",
    "\n",
    "x_train = vectorize_data(train_data)\n",
    "y_train = np.asarray(train_labels).astype(float)\n",
    "\n",
    "x_test = vectorize_data(test_data)\n",
    "y_test = np.asarray(test_labels).astype(float)"
   ]
  },
  {
   "cell_type": "code",
   "execution_count": 14,
   "id": "floral-wisdom",
   "metadata": {},
   "outputs": [
    {
     "name": "stdout",
     "output_type": "stream",
     "text": [
      "Epoch 1/5\n",
      "49/49 [==============================] - 1s 16ms/step - loss: 0.4925 - accuracy: 0.8250\n",
      "Epoch 2/5\n",
      "49/49 [==============================] - 1s 16ms/step - loss: 0.3150 - accuracy: 0.9061 0s - loss: 0.3157 - accuracy: 0.90\n",
      "Epoch 3/5\n",
      "49/49 [==============================] - 1s 17ms/step - loss: 0.2702 - accuracy: 0.9215\n",
      "Epoch 4/5\n",
      "49/49 [==============================] - 1s 20ms/step - loss: 0.2520 - accuracy: 0.9288\n",
      "Epoch 5/5\n",
      "49/49 [==============================] - 1s 18ms/step - loss: 0.2421 - accuracy: 0.9321\n"
     ]
    },
    {
     "data": {
      "text/plain": [
       "<tensorflow.python.keras.callbacks.History at 0x23889a19520>"
      ]
     },
     "execution_count": 14,
     "metadata": {},
     "output_type": "execute_result"
    }
   ],
   "source": [
    "from keras import layers, models, regularizers\n",
    "\n",
    "def build_model():\n",
    "    model = models.Sequential()\n",
    "    model.add(layers.Dense(16, activation = \"relu\",input_shape = (10000,)))\n",
    "    model.add(layers.Dense(16, activation = \"relu\"))\n",
    "    model.add(layers.Dense(1,activation = \"sigmoid\"))\n",
    "    \n",
    "    model.compile(optimizer = \"rmsprop\",\n",
    "                  loss = \"binary_crossentropy\",\n",
    "                  metrics = [\"accuracy\"])\n",
    "    return model\n",
    "\n",
    "def build_model_l2():\n",
    "    model = models.Sequential()\n",
    "    model.add(layers.Dense(16, activation = \"relu\",kernel_regularizer = regularizers.l2(0.001),input_shape = (10000,)))\n",
    "    model.add(layers.Dense(16, activation = \"relu\",kernel_regularizer = regularizers.l2(0.001)))\n",
    "    model.add(layers.Dense(1,activation = \"sigmoid\"))\n",
    "    \n",
    "    model.compile(optimizer = \"rmsprop\",\n",
    "                  loss = \"binary_crossentropy\",\n",
    "                  metrics = [\"accuracy\"])\n",
    "    return model\n",
    "\n",
    "model_l2 = build_model_l2()\n",
    "model_l2.fit(x_train,y_train,epochs=5,batch_size = 512)"
   ]
  },
  {
   "cell_type": "code",
   "execution_count": 9,
   "id": "wrong-avenue",
   "metadata": {},
   "outputs": [
    {
     "name": "stdout",
     "output_type": "stream",
     "text": [
      "782/782 [==============================] - 1s 2ms/step - loss: 0.3426 - accuracy: 0.8838\n"
     ]
    },
    {
     "data": {
      "text/plain": [
       "[0.34258249402046204, 0.883840024471283]"
      ]
     },
     "execution_count": 9,
     "metadata": {},
     "output_type": "execute_result"
    }
   ],
   "source": [
    "model.evaluate(x_test,y_test)\n"
   ]
  }
 ],
 "metadata": {
  "kernelspec": {
   "display_name": "Python 3",
   "language": "python",
   "name": "python3"
  },
  "language_info": {
   "codemirror_mode": {
    "name": "ipython",
    "version": 3
   },
   "file_extension": ".py",
   "mimetype": "text/x-python",
   "name": "python",
   "nbconvert_exporter": "python",
   "pygments_lexer": "ipython3",
   "version": "3.8.8"
  }
 },
 "nbformat": 4,
 "nbformat_minor": 5
}
