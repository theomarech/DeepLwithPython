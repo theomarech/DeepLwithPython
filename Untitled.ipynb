{
 "cells": [
  {
   "cell_type": "code",
   "execution_count": 22,
   "id": "motivated-spectacular",
   "metadata": {},
   "outputs": [
    {
     "name": "stdout",
     "output_type": "stream",
     "text": [
      "0\n",
      "1\n",
      "2\n",
      "3\n",
      "4\n"
     ]
    }
   ],
   "source": [
    "import numpy as np\n",
    "len(np.empty(50))\n",
    "alist = [56,12,12,32,34]\n",
    "for i in range(len(alist)):\n",
    "    print(i)"
   ]
  },
  {
   "cell_type": "code",
   "execution_count": null,
   "id": "global-tourist",
   "metadata": {},
   "outputs": [],
   "source": [
    "Pipeline([(\"union_de_pipe\",\n",
    "           FeatureUnion([\n",
    "               \"text\",Pipeline([\n",
    "                           (\"a\":foo),\n",
    "                           (\"b\":bar)])\n",
    "               \"numeric\",Pipeline([\n",
    "                           (\"a\":foo),\n",
    "                           (\"b\":bar)\n",
    "                         ])\n",
    "                      ]))\n",
    "          (\"fun2\":fun2),\n",
    "          (\"fun3\":fun3))\n",
    "         ])"
   ]
  }
 ],
 "metadata": {
  "kernelspec": {
   "display_name": "Python 3",
   "language": "python",
   "name": "python3"
  },
  "language_info": {
   "codemirror_mode": {
    "name": "ipython",
    "version": 3
   },
   "file_extension": ".py",
   "mimetype": "text/x-python",
   "name": "python",
   "nbconvert_exporter": "python",
   "pygments_lexer": "ipython3",
   "version": "3.8.8"
  }
 },
 "nbformat": 4,
 "nbformat_minor": 5
}
