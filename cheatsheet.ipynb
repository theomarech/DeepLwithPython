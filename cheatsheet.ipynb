{
 "cells": [
  {
   "cell_type": "markdown",
   "id": "pediatric-underwear",
   "metadata": {},
   "source": [
    "# Cheatsheet jupyter, markdown"
   ]
  },
  {
   "cell_type": "markdown",
   "id": "actual-watch",
   "metadata": {},
   "source": [
    "Les commandes de bases :\n",
    "\n",
    "\n",
    "(1) Make text ITALIC: *Italic*\n",
    "\n",
    "(2) Make text BOLD: **Bold**\n",
    "\n",
    "(3) List item as a bullet: dash and space -\n",
    "\n",
    "(4) List item as a number: Simple as number and dot 1.\n",
    "\n",
    "(5) Indenting text: Greater than and space >\n",
    "\n",
    "(6) Inline code span: Back quotation mark \" ` \"\n",
    "\n",
    "(7) Block of code: Triple back quotation marks \" ``` \"\n",
    "\n",
    "(8) Link a section: [Title of Section](#title-of-section)\n",
    "\n",
    "(9) Hyperlink: [Text](URL)\n"
   ]
  }
 ],
 "metadata": {
  "kernelspec": {
   "display_name": "Python 3",
   "language": "python",
   "name": "python3"
  },
  "language_info": {
   "codemirror_mode": {
    "name": "ipython",
    "version": 3
   },
   "file_extension": ".py",
   "mimetype": "text/x-python",
   "name": "python",
   "nbconvert_exporter": "python",
   "pygments_lexer": "ipython3",
   "version": "3.8.8"
  }
 },
 "nbformat": 4,
 "nbformat_minor": 5
}
