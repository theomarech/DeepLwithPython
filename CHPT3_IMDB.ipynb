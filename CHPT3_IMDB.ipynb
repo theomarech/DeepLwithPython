{
 "cells": [
  {
   "cell_type": "markdown",
   "id": "clean-emergency",
   "metadata": {},
   "source": [
    "# Chapitre III - jeux de données IMDB\n",
    "jeux de données contenant des critiques de films hautement polarisée.\n",
    "\n",
    "caractéristiques principales:\n",
    "- taille : 50 000 observations\n",
    "- train/test : 50/50\n",
    "- équilibré = 50/50\n",
    "\n",
    "Objectif : prédiction binaire positive/négative à partir des critiques => NLP*\n",
    "\n",
    "## Importation du jeux de données et des librairies\n",
    "\n",
    "on importera ici seulement les 10000 mots les plus fréquents afin d'éviter de surcharger la mémoire pendant l'apprentissage. (Surtout que je n'ai pas de GPU sur ce PC portable)"
   ]
  },
  {
   "cell_type": "code",
   "execution_count": 157,
   "id": "robust-participant",
   "metadata": {},
   "outputs": [
    {
     "name": "stdout",
     "output_type": "stream",
     "text": [
      "la taille du jeux de données d'entrainement est de (25000,), avec une dimension de 1\n",
      "[0 0 1 0 0 1 0 1 0]\n"
     ]
    }
   ],
   "source": [
    "from keras.datasets import imdb\n",
    "%matplotlib inline\n",
    "\n",
    "(train_data, train_labels),(test_data,test_labels) = imdb.load_data(num_words=10000)\n",
    "\n",
    "print(\"la taille du jeux de données d'entrainement est de {}, avec une dimension de {}\".format(train_data.shape,train_data.ndim))\n",
    "print(train_labels[1:10])"
   ]
  },
  {
   "cell_type": "markdown",
   "id": "persistent-factory",
   "metadata": {},
   "source": [
    "le jeux de données d'entrainement consiste en des vecteurs de mots décrits par leur code respectif dans un dictionnaire. La méthode ```get_word_index()``` de imdb permet d'accéder à ces mots :"
   ]
  },
  {
   "cell_type": "code",
   "execution_count": 158,
   "id": "lightweight-story",
   "metadata": {},
   "outputs": [
    {
     "name": "stdout",
     "output_type": "stream",
     "text": [
      "la valeur max est de 9999\n"
     ]
    },
    {
     "data": {
      "text/plain": [
       "\"? this film was just brilliant casting location scenery story direction everyone's really suited the part they played and you could just imagine being there robert ? is an amazing actor and now the same being director ? father came from the same scottish island as myself so i loved the fact there was a real connection with this film the witty remarks throughout the film were great it was just brilliant so much that i bought the film as soon as it was released for ? and would recommend it to everyone to watch and the fly fishing was amazing really cried at the end it was so sad and you know what they say if you cry at a film it must have been good and this definitely was also ? to the two little boy's that played the ? of norman and paul they were just brilliant children are often left out of the ? list i think because the stars that play them all grown up are such a big profile for the whole film but these children are amazing and should be praised for what they have done don't you think the whole story was so lovely because it was true and was someone's life after all that was shared with us all\""
      ]
     },
     "execution_count": 158,
     "metadata": {},
     "output_type": "execute_result"
    }
   ],
   "source": [
    "print(\"la valeur max est de \" + str(max([max(vecteur) for vecteur in train_data]))) # la valeur max est 9999 \n",
    "\n",
    "word_index = imdb.get_word_index() #méthode de keras pour imdb uniquement permettant d'accéder au paires mots/indices\n",
    "reverse_word_index = dict([(v,k) for (k,v) in word_index.items()]) #inversion du dico  indices/mots\n",
    "\n",
    "' '.join([reverse_word_index.get(i-3,\"?\") for i in train_data[0]]) #la fonction join permet une jointure entre les mots, la méthode get permet d'accéder à la valeur de la clef correspondantes"
   ]
  },
  {
   "cell_type": "markdown",
   "id": "suspended-tenant",
   "metadata": {},
   "source": [
    "indice de 0 à 2 correspondents à des indices spécifiques signifiant : \"remplissage\", \"début de séquence\", \"mot inconnu\"\n",
    "\n",
    "## Préparation des données\n",
    "\n",
    "- les données d'entrées dans un réseaux de neurone dans keras est un tenseurs ! pas d'integer\n",
    "- la forme de chaque tenseur est identique\n",
    "- one hot encoding très bien pour ce genre de situation ; on transforme en binaire et en float32"
   ]
  },
  {
   "cell_type": "code",
   "execution_count": 164,
   "id": "vertical-mileage",
   "metadata": {},
   "outputs": [],
   "source": [
    "import numpy as np\n",
    "\n",
    "def vectorize_sequence(sequences,dimension=10000):\n",
    "    results = np.zeros((len(sequences),dimension))\n",
    "    for i, sequence in enumerate(sequences):\n",
    "        results[i,sequence] = 1\n",
    "    return results\n",
    "\n",
    "X_train = vectorize_sequence(train_data)\n",
    "X_test = vectorize_sequence(test_data)\n",
    "\n",
    "y_train = np.asarray(train_labels).astype(float)\n",
    "y_test = np.asarray(test_labels).astype(float)"
   ]
  },
  {
   "cell_type": "markdown",
   "id": "imperial-savings",
   "metadata": {},
   "source": [
    "## Architecture du réseau\n",
    "\n",
    "- combien de couche ?\n",
    "- combien d'unités sur chaque couche ? \n",
    "--> détermine la complexité, le degré de liberté du modèle, intuitivement plus l'apprentissage est complexe, en grande dimension plus ces hyperparamètres devront être élevé\n",
    "\n",
    "On part sur trois couches ici : entrée, cachée, sortie avec 16 neurones sur les couches intermédiaires"
   ]
  },
  {
   "cell_type": "code",
   "execution_count": 160,
   "id": "aerial-consensus",
   "metadata": {},
   "outputs": [],
   "source": [
    "from keras import layers\n",
    "from keras import models\n",
    "\n",
    "# architecture du réseau en trois couches avec un sortie en binaire\n",
    "model = models.Sequential()\n",
    "model.add(layers.Dense(16,activation = \"relu\", input_shape=(10000,)))\n",
    "model.add(layers.Dense(16,activation=\"relu\"))\n",
    "model.add(layers.Dense(1,activation=\"sigmoid\"))\n",
    "\n",
    "# compilation du model : optimiseur, fonction de perte, métriques à suivre\n",
    "model.compile(optimizer= \"rmsprop\",\n",
    "             loss = \"binary_crossentropy\",\n",
    "             metrics = [\"accuracy\"])\n"
   ]
  },
  {
   "cell_type": "markdown",
   "id": "annoying-shepherd",
   "metadata": {},
   "source": [
    "### configuration de l'optimiseur, loss et metric\n",
    "\n",
    "On peut gérer les [optimiseurs et autres](https://keras.io/api/optimizers/) avec l'API de keras"
   ]
  },
  {
   "cell_type": "code",
   "execution_count": 161,
   "id": "purple-narrative",
   "metadata": {},
   "outputs": [],
   "source": [
    "from keras import optimizers\n",
    "\n",
    "model.compile(optimizer=optimizers.RMSprop(lr=0.001),\n",
    "             loss = \"binary_crossentropy\",\n",
    "             metrics = [\"accuracy\"])\n",
    "\n",
    "from keras import losses\n",
    "from keras import metrics\n",
    "\n",
    "model.compile(optimizer = optimizers.RMSprop(lr=0.001),\n",
    "             loss = losses.binary_crossentropy,\n",
    "             metrics = metrics.binary_accuracy)"
   ]
  },
  {
   "cell_type": "markdown",
   "id": "executive-steering",
   "metadata": {},
   "source": [
    "## Préparation d'un jeux de données test et d'apprentissage\n",
    "\n",
    "l'objectif est de pouvoir tester notre apprentissage sans passer par le vrai jeux de données de test mais en en créant un nouveau à partir des données d'apprentissage. Il est important ici de connaitre l'équilibrage des labels pour spliter de manière à avoir le même équilibre dans chacun des nouveaux jeux de données train et test afin qu'ils soient tout deux représentatifs l'un de l'autre. Ici on se fait pas chier étant données que les données sont équilibré avec un problème binaire en plus.\n",
    "\n"
   ]
  },
  {
   "cell_type": "code",
   "execution_count": 73,
   "id": "radical-tennessee",
   "metadata": {},
   "outputs": [
    {
     "data": {
      "text/plain": [
       "True"
      ]
     },
     "execution_count": 73,
     "metadata": {},
     "output_type": "execute_result"
    }
   ],
   "source": [
    "x_val = X_train[:10000,:]\n",
    "partial_x_val = X_train[10000:]\n",
    "\n",
    "y_val = y_train[:10000]\n",
    "partial_y_val = y_train[10000:]\n",
    "\n",
    "(x_val == X_train[:10000]).all() # équivalence des écritures"
   ]
  },
  {
   "cell_type": "markdown",
   "id": "social-lesbian",
   "metadata": {},
   "source": [
    "## Entrainement du modele"
   ]
  },
  {
   "cell_type": "code",
   "execution_count": 74,
   "id": "young-phrase",
   "metadata": {},
   "outputs": [
    {
     "name": "stdout",
     "output_type": "stream",
     "text": [
      "Epoch 1/20\n",
      "30/30 [==============================] - 2s 57ms/step - loss: 0.5398 - accuracy: 0.7755 - auc: 0.8733 - val_loss: 0.4235 - val_accuracy: 0.8616 - val_auc: 0.9391\n",
      "Epoch 2/20\n",
      "30/30 [==============================] - 1s 34ms/step - loss: 0.3392 - accuracy: 0.9001 - auc: 0.9602 - val_loss: 0.3233 - val_accuracy: 0.8868 - val_auc: 0.9516\n",
      "Epoch 3/20\n",
      "30/30 [==============================] - 1s 32ms/step - loss: 0.2474 - accuracy: 0.9247 - auc: 0.9749 - val_loss: 0.2862 - val_accuracy: 0.8930 - val_auc: 0.9546\n",
      "Epoch 4/20\n",
      "30/30 [==============================] - 1s 31ms/step - loss: 0.1934 - accuracy: 0.9386 - auc: 0.9837 - val_loss: 0.2756 - val_accuracy: 0.8915 - val_auc: 0.9550\n",
      "Epoch 5/20\n",
      "30/30 [==============================] - 1s 30ms/step - loss: 0.1585 - accuracy: 0.9489 - auc: 0.9883 - val_loss: 0.2752 - val_accuracy: 0.8897 - val_auc: 0.9544\n",
      "Epoch 6/20\n",
      "30/30 [==============================] - 1s 29ms/step - loss: 0.1276 - accuracy: 0.9615 - auc: 0.9928 - val_loss: 0.2826 - val_accuracy: 0.8852 - val_auc: 0.9530\n",
      "Epoch 7/20\n",
      "30/30 [==============================] - 1s 29ms/step - loss: 0.1064 - accuracy: 0.9674 - auc: 0.9951 - val_loss: 0.3019 - val_accuracy: 0.8856 - val_auc: 0.9505\n",
      "Epoch 8/20\n",
      "30/30 [==============================] - 1s 30ms/step - loss: 0.0877 - accuracy: 0.9747 - auc: 0.9967 - val_loss: 0.3122 - val_accuracy: 0.8831 - val_auc: 0.9495\n",
      "Epoch 9/20\n",
      "30/30 [==============================] - 1s 30ms/step - loss: 0.0720 - accuracy: 0.9805 - auc: 0.9978 - val_loss: 0.3422 - val_accuracy: 0.8787 - val_auc: 0.9468\n",
      "Epoch 10/20\n",
      "30/30 [==============================] - 1s 30ms/step - loss: 0.0589 - accuracy: 0.9854 - auc: 0.9987 - val_loss: 0.3543 - val_accuracy: 0.8793 - val_auc: 0.9448\n",
      "Epoch 11/20\n",
      "30/30 [==============================] - 1s 29ms/step - loss: 0.0456 - accuracy: 0.9904 - auc: 0.9994 - val_loss: 0.3774 - val_accuracy: 0.8797 - val_auc: 0.9428\n",
      "Epoch 12/20\n",
      "30/30 [==============================] - 1s 28ms/step - loss: 0.0364 - accuracy: 0.9930 - auc: 0.9997 - val_loss: 0.4160 - val_accuracy: 0.8745 - val_auc: 0.9399\n",
      "Epoch 13/20\n",
      "30/30 [==============================] - 1s 30ms/step - loss: 0.0294 - accuracy: 0.9948 - auc: 0.9998 - val_loss: 0.4319 - val_accuracy: 0.8767 - val_auc: 0.9383\n",
      "Epoch 14/20\n",
      "30/30 [==============================] - 1s 28ms/step - loss: 0.0211 - accuracy: 0.9966 - auc: 0.9999 - val_loss: 0.4596 - val_accuracy: 0.8759 - val_auc: 0.9360\n",
      "Epoch 15/20\n",
      "30/30 [==============================] - 1s 29ms/step - loss: 0.0167 - accuracy: 0.9980 - auc: 1.0000 - val_loss: 0.4942 - val_accuracy: 0.8746 - val_auc: 0.9336\n",
      "Epoch 16/20\n",
      "30/30 [==============================] - 1s 30ms/step - loss: 0.0133 - accuracy: 0.9982 - auc: 1.0000 - val_loss: 0.5324 - val_accuracy: 0.8743 - val_auc: 0.9294\n",
      "Epoch 17/20\n",
      "30/30 [==============================] - 1s 30ms/step - loss: 0.0092 - accuracy: 0.9989 - auc: 1.0000 - val_loss: 0.5604 - val_accuracy: 0.8718 - val_auc: 0.9272\n",
      "Epoch 18/20\n",
      "30/30 [==============================] - 1s 29ms/step - loss: 0.0092 - accuracy: 0.9981 - auc: 1.0000 - val_loss: 0.5939 - val_accuracy: 0.8704 - val_auc: 0.9260\n",
      "Epoch 19/20\n",
      "30/30 [==============================] - 1s 32ms/step - loss: 0.0039 - accuracy: 0.9999 - auc: 1.0000 - val_loss: 0.6247 - val_accuracy: 0.8698 - val_auc: 0.9231\n",
      "Epoch 20/20\n",
      "30/30 [==============================] - 1s 28ms/step - loss: 0.0046 - accuracy: 0.9993 - auc: 1.0000 - val_loss: 0.6596 - val_accuracy: 0.8705 - val_auc: 0.9217\n"
     ]
    }
   ],
   "source": [
    "model.compile(optimizer = \"rmsprop\",\n",
    "             loss = \"binary_crossentropy\",\n",
    "             metrics = [\"accuracy\",\"AUC\"])\n",
    "\n",
    "history = model.fit(partial_x_val,\n",
    "                    partial_y_val,\n",
    "                    epochs=20,\n",
    "                    batch_size=512,\n",
    "                    validation_data=(x_val,y_val))"
   ]
  },
  {
   "cell_type": "markdown",
   "id": "consolidated-youth",
   "metadata": {},
   "source": [
    "En suivant le model de visu on peut déjà voir un surapprentissage très rapidement. Cependant le model semble bien efficace pour la classification dans ce cas. \n",
    "Le modele fité contient un attribut history qui permet d'accéder à tout ce qui s'est passé pendant l'entrainment et notamment de pouvoir visualiser les courbes d'apprentissage."
   ]
  },
  {
   "cell_type": "code",
   "execution_count": 178,
   "id": "absolute-domestic",
   "metadata": {},
   "outputs": [
    {
     "data": {
      "text/html": [
       "\n",
       "<style>\n",
       " {\n",
       "     background-color: red;\n",
       "    display: table-cell;\n",
       "    text-align: center;\n",
       "   .output_png vertical-align: middle;\n",
       "}\n",
       "</style>\n"
      ],
      "text/plain": [
       "<IPython.core.display.HTML object>"
      ]
     },
     "execution_count": 178,
     "metadata": {},
     "output_type": "execute_result"
    }
   ],
   "source": [
    "\n",
    "from IPython.core.display import HTML\n",
    "\n",
    "HTML(\"\"\"\n",
    "<style>\n",
    " {\n",
    "    display: table-cell;\n",
    "    text-align: center;\n",
    "    vertical-align: middle;\n",
    "}\n",
    "</style>\n",
    "\"\"\")"
   ]
  },
  {
   "cell_type": "code",
   "execution_count": 179,
   "id": "sweet-chicago",
   "metadata": {},
   "outputs": [
    {
     "name": "stdout",
     "output_type": "stream",
     "text": [
      "dict_keys(['loss', 'accuracy', 'auc', 'val_loss', 'val_accuracy', 'val_auc'])\n"
     ]
    },
    {
     "data": {
      "image/png": "[encoded data removed]",
      "text/plain": [
       "<Figure size 432x288 with 1 Axes>"
      ]
     },
     "metadata": {
      "needs_background": "light"
     },
     "output_type": "display_data"
    }
   ],
   "source": [
    "import matplotlib.pyplot as plt\n",
    "\n",
    "print(history.history.keys())\n",
    "\n",
    "history_dict = history.history\n",
    "loss = history_dict.get('loss')\n",
    "val_loss_values = history_dict[\"val_loss\"]\n",
    "epochs = range(20)\n",
    "\n",
    "plt.plot(epochs,loss,marker=\"o\", linestyle = \"none\",color = \"blue\", label = \"Entrainement\")\n",
    "plt.plot(epochs,val_loss_values,color=\"red\",label = \"Validation\")\n",
    "\n",
    "plt.xticks(np.arange(0,20))\n",
    "\n",
    "plt.title(\"Comparaison des courbes de pertes pendant l'entrainement\")\n",
    "\n",
    "plt.xlabel(\"Nombre d'époques\")\n",
    "plt.ylabel(\"Perte pendant l'entrainement\")\n",
    "\n",
    "plt.legend()\n",
    "plt.show()\n",
    "\n"
   ]
  },
  {
   "cell_type": "code",
   "execution_count": 142,
   "id": "several-weekend",
   "metadata": {},
   "outputs": [
    {
     "data": {
      "image/png": "[encoded data removed]",
      "text/plain": [
       "<Figure size 432x288 with 1 Axes>"
      ]
     },
     "metadata": {
      "needs_background": "light"
     },
     "output_type": "display_data"
    }
   ],
   "source": [
    "acc = history_dict[\"accuracy\"]\n",
    "val_acc = history_dict[\"val_accuracy\"]\n",
    "\n",
    "plt.clf()\n",
    "plt.plot(epochs,acc,linestyle=\"none\",color = \"blue\", marker = \"o\",label=\"Entrainement\")\n",
    "plt.plot(epochs,val_acc,color = \"red\",label=\"validation\")\n",
    "plt.xticks(np.arange(0,20))\n",
    "plt.axvline(4)\n",
    "plt.show()"
   ]
  },
  {
   "cell_type": "markdown",
   "id": "affected-experiment",
   "metadata": {},
   "source": [
    "## Nouveau réseau pour le surajustement\n",
    "L'objectif est d'arrêter l'apprentissage à 4 là ou le réseaux prédit le mieux pour les données d'apprentissage pour éviter le surajustement"
   ]
  },
  {
   "cell_type": "code",
   "execution_count": null,
   "id": "developing-aviation",
   "metadata": {},
   "outputs": [],
   "source": [
    "model = models.Sequential()\n",
    "model.add(layers.Dense(16,activation=\"relu\",input_shape=(10000,)))\n",
    "model.add(layers.Dense(16,activation=\"relu\"))\n",
    "model.add(layers.Dense(1,activation=\"sigmoid\"))\n",
    "\n",
    "model.compile(optimizer = \"rmsprop\",\n",
    "             loss = \"binary_crossentropy\",\n",
    "             metrics = [\"accuracy\"])\n",
    "\n",
    "model.fit(X_train,\n",
    "          y_train,\n",
    "          epochs = 4,\n",
    "          batch_size = 512)\n",
    "\n",
    "results = model.evaluate(X_test,y_test)\n",
    "\n",
    "print(results)"
   ]
  },
  {
   "cell_type": "markdown",
   "id": "demographic-steam",
   "metadata": {},
   "source": [
    "## Utilisation du réseau pré entrainé pour générer des prédictions\n",
    "\n",
    "une fois notre réseau entrainé il permet d'être utiliser pour réaliser des prédicitons sur des données non encore rencontré, ici juste les données test"
   ]
  },
  {
   "cell_type": "code",
   "execution_count": 169,
   "id": "substantial-diagnosis",
   "metadata": {},
   "outputs": [
    {
     "data": {
      "image/png": "[encoded data removed]",
      "text/plain": [
       "<Figure size 432x288 with 1 Axes>"
      ]
     },
     "metadata": {
      "needs_background": "light"
     },
     "output_type": "display_data"
    }
   ],
   "source": [
    "proba_test = model.predict(X_test)\n",
    "plt.hist(proba_test)\n",
    "plt.show()"
   ]
  },
  {
   "cell_type": "markdown",
   "id": "employed-karma",
   "metadata": {
    "tags": []
   },
   "source": [
    "on peut voir sur l'histogramme que le réseaux est sur pour la majorité des étiquettes avec une bonne polarisation entre des proba proches de 0 et de 1"
   ]
  },
  {
   "cell_type": "markdown",
   "id": "quiet-checkout",
   "metadata": {},
   "source": [
    "## test d'un réseau plus simple \n",
    "l'objectif est de voir le comportement du réseaux avec une seule couche de neurone"
   ]
  },
  {
   "cell_type": "code",
   "execution_count": 251,
   "id": "compatible-swiss",
   "metadata": {},
   "outputs": [
    {
     "name": "stdout",
     "output_type": "stream",
     "text": [
      "Epoch 1/3\n",
      "49/49 [==============================] - 16s 331ms/step - loss: 0.4232 - accuracy: 0.8328 - val_loss: 0.3215 - val_accuracy: 0.8786\n",
      "Epoch 2/3\n",
      "49/49 [==============================] - 2s 40ms/step - loss: 0.2401 - accuracy: 0.9169 - val_loss: 0.2858 - val_accuracy: 0.8869\n",
      "Epoch 3/3\n",
      "49/49 [==============================] - 2s 31ms/step - loss: 0.1859 - accuracy: 0.9366 - val_loss: 0.2880 - val_accuracy: 0.8826\n"
     ]
    },
    {
     "data": {
      "text/plain": [
       "<tensorflow.python.keras.callbacks.History at 0x1f65187d610>"
      ]
     },
     "execution_count": 251,
     "metadata": {},
     "output_type": "execute_result"
    }
   ],
   "source": [
    "model = models.Sequential()\n",
    "model.add(layers.Dense(32,activation=\"tanh\",input_shape=(10000,)))\n",
    "model.add(layers.Dense(1,activation=\"sigmoid\"))\n",
    "\n",
    "model.compile(optimizer=\"adam\",\n",
    "             loss = \"binary_crossentropy\",\n",
    "             metrics = [\"accuracy\"])\n",
    "model.fit(X_train,\n",
    "          y_train,\n",
    "          epochs=3,\n",
    "          batch_size=512,\n",
    "          validation_data = (X_test,y_test))\n"
   ]
  },
  {
   "cell_type": "code",
   "execution_count": 213,
   "id": "paperback-escape",
   "metadata": {},
   "outputs": [
    {
     "name": "stdout",
     "output_type": "stream",
     "text": [
      "782/782 [==============================] - 1s 2ms/step - loss: 0.2843 - accuracy: 0.8878\n"
     ]
    },
    {
     "data": {
      "text/plain": [
       "[0.28434282541275024, 0.8878399729728699]"
      ]
     },
     "execution_count": 213,
     "metadata": {},
     "output_type": "execute_result"
    }
   ],
   "source": [
    "model.evaluate(X_test,y_test)"
   ]
  },
  {
   "cell_type": "code",
   "execution_count": 203,
   "id": "covered-exchange",
   "metadata": {},
   "outputs": [
    {
     "ename": "KeyError",
     "evalue": "'accuracy'",
     "output_type": "error",
     "traceback": [
      "\u001b[1;31m---------------------------------------------------------------------------\u001b[0m",
      "\u001b[1;31mKeyError\u001b[0m                                  Traceback (most recent call last)",
      "\u001b[1;32m<ipython-input-203-9e1ddc83aa0c>\u001b[0m in \u001b[0;36m<module>\u001b[1;34m\u001b[0m\n\u001b[0;32m      1\u001b[0m \u001b[0mhistory\u001b[0m \u001b[1;33m=\u001b[0m \u001b[0mmodel\u001b[0m\u001b[1;33m.\u001b[0m\u001b[0mhistory\u001b[0m\u001b[1;33m.\u001b[0m\u001b[0mhistory\u001b[0m\u001b[1;33m\u001b[0m\u001b[1;33m\u001b[0m\u001b[0m\n\u001b[0;32m      2\u001b[0m \u001b[0mepochs\u001b[0m \u001b[1;33m=\u001b[0m \u001b[0mrange\u001b[0m\u001b[1;33m(\u001b[0m\u001b[1;36m10\u001b[0m\u001b[1;33m)\u001b[0m\u001b[1;33m\u001b[0m\u001b[1;33m\u001b[0m\u001b[0m\n\u001b[1;32m----> 3\u001b[1;33m \u001b[0macc\u001b[0m \u001b[1;33m=\u001b[0m \u001b[0mhistory\u001b[0m\u001b[1;33m[\u001b[0m\u001b[1;34m\"accuracy\"\u001b[0m\u001b[1;33m]\u001b[0m\u001b[1;33m\u001b[0m\u001b[1;33m\u001b[0m\u001b[0m\n\u001b[0m\u001b[0;32m      4\u001b[0m \u001b[0mval_acc\u001b[0m \u001b[1;33m=\u001b[0m \u001b[0mhistory\u001b[0m\u001b[1;33m[\u001b[0m\u001b[1;34m\"val_accuracy\"\u001b[0m\u001b[1;33m]\u001b[0m\u001b[1;33m\u001b[0m\u001b[1;33m\u001b[0m\u001b[0m\n\u001b[0;32m      5\u001b[0m \u001b[1;33m\u001b[0m\u001b[0m\n",
      "\u001b[1;31mKeyError\u001b[0m: 'accuracy'"
     ]
    }
   ],
   "source": [
    "history = model.history.history\n",
    "epochs = range(10)\n",
    "acc = history[\"accuracy\"]\n",
    "val_acc = history[\"val_accuracy\"]\n",
    "\n",
    "plt.plot(epochs,acc,marker=\"o\",linestyle=\"none\",color=\"blue\")\n",
    "plt.plot(epochs,val_acc)"
   ]
  },
  {
   "cell_type": "code",
   "execution_count": 249,
   "id": "interior-blowing",
   "metadata": {},
   "outputs": [
    {
     "name": "stderr",
     "output_type": "stream",
     "text": [
      "C:\\Users\\marec\\miniconda3\\envs\\deeplwithpython\\lib\\site-packages\\sklearn\\linear_model\\_sag.py:328: ConvergenceWarning: The max_iter was reached which means the coef_ did not converge\n",
      "  warnings.warn(\"The max_iter was reached which means \"\n",
      "C:\\Users\\marec\\miniconda3\\envs\\deeplwithpython\\lib\\site-packages\\sklearn\\linear_model\\_sag.py:328: ConvergenceWarning: The max_iter was reached which means the coef_ did not converge\n",
      "  warnings.warn(\"The max_iter was reached which means \"\n",
      "C:\\Users\\marec\\miniconda3\\envs\\deeplwithpython\\lib\\site-packages\\sklearn\\linear_model\\_sag.py:328: ConvergenceWarning: The max_iter was reached which means the coef_ did not converge\n",
      "  warnings.warn(\"The max_iter was reached which means \"\n",
      "C:\\Users\\marec\\miniconda3\\envs\\deeplwithpython\\lib\\site-packages\\sklearn\\linear_model\\_sag.py:328: ConvergenceWarning: The max_iter was reached which means the coef_ did not converge\n",
      "  warnings.warn(\"The max_iter was reached which means \"\n",
      "C:\\Users\\marec\\miniconda3\\envs\\deeplwithpython\\lib\\site-packages\\sklearn\\linear_model\\_sag.py:328: ConvergenceWarning: The max_iter was reached which means the coef_ did not converge\n",
      "  warnings.warn(\"The max_iter was reached which means \"\n",
      "C:\\Users\\marec\\miniconda3\\envs\\deeplwithpython\\lib\\site-packages\\sklearn\\linear_model\\_sag.py:328: ConvergenceWarning: The max_iter was reached which means the coef_ did not converge\n",
      "  warnings.warn(\"The max_iter was reached which means \"\n",
      "C:\\Users\\marec\\miniconda3\\envs\\deeplwithpython\\lib\\site-packages\\sklearn\\linear_model\\_sag.py:328: ConvergenceWarning: The max_iter was reached which means the coef_ did not converge\n",
      "  warnings.warn(\"The max_iter was reached which means \"\n",
      "C:\\Users\\marec\\miniconda3\\envs\\deeplwithpython\\lib\\site-packages\\sklearn\\linear_model\\_sag.py:328: ConvergenceWarning: The max_iter was reached which means the coef_ did not converge\n",
      "  warnings.warn(\"The max_iter was reached which means \"\n",
      "C:\\Users\\marec\\miniconda3\\envs\\deeplwithpython\\lib\\site-packages\\sklearn\\linear_model\\_sag.py:328: ConvergenceWarning: The max_iter was reached which means the coef_ did not converge\n",
      "  warnings.warn(\"The max_iter was reached which means \"\n",
      "C:\\Users\\marec\\miniconda3\\envs\\deeplwithpython\\lib\\site-packages\\sklearn\\linear_model\\_sag.py:328: ConvergenceWarning: The max_iter was reached which means the coef_ did not converge\n",
      "  warnings.warn(\"The max_iter was reached which means \"\n",
      "C:\\Users\\marec\\miniconda3\\envs\\deeplwithpython\\lib\\site-packages\\sklearn\\linear_model\\_sag.py:328: ConvergenceWarning: The max_iter was reached which means the coef_ did not converge\n",
      "  warnings.warn(\"The max_iter was reached which means \"\n",
      "C:\\Users\\marec\\miniconda3\\envs\\deeplwithpython\\lib\\site-packages\\sklearn\\linear_model\\_sag.py:328: ConvergenceWarning: The max_iter was reached which means the coef_ did not converge\n",
      "  warnings.warn(\"The max_iter was reached which means \"\n",
      "C:\\Users\\marec\\miniconda3\\envs\\deeplwithpython\\lib\\site-packages\\sklearn\\linear_model\\_sag.py:328: ConvergenceWarning: The max_iter was reached which means the coef_ did not converge\n",
      "  warnings.warn(\"The max_iter was reached which means \"\n",
      "C:\\Users\\marec\\miniconda3\\envs\\deeplwithpython\\lib\\site-packages\\sklearn\\linear_model\\_sag.py:328: ConvergenceWarning: The max_iter was reached which means the coef_ did not converge\n",
      "  warnings.warn(\"The max_iter was reached which means \"\n",
      "C:\\Users\\marec\\miniconda3\\envs\\deeplwithpython\\lib\\site-packages\\sklearn\\linear_model\\_sag.py:328: ConvergenceWarning: The max_iter was reached which means the coef_ did not converge\n",
      "  warnings.warn(\"The max_iter was reached which means \"\n",
      "C:\\Users\\marec\\miniconda3\\envs\\deeplwithpython\\lib\\site-packages\\sklearn\\linear_model\\_sag.py:328: ConvergenceWarning: The max_iter was reached which means the coef_ did not converge\n",
      "  warnings.warn(\"The max_iter was reached which means \"\n",
      "C:\\Users\\marec\\miniconda3\\envs\\deeplwithpython\\lib\\site-packages\\sklearn\\linear_model\\_sag.py:328: ConvergenceWarning: The max_iter was reached which means the coef_ did not converge\n",
      "  warnings.warn(\"The max_iter was reached which means \"\n",
      "C:\\Users\\marec\\miniconda3\\envs\\deeplwithpython\\lib\\site-packages\\sklearn\\linear_model\\_sag.py:328: ConvergenceWarning: The max_iter was reached which means the coef_ did not converge\n",
      "  warnings.warn(\"The max_iter was reached which means \"\n",
      "C:\\Users\\marec\\miniconda3\\envs\\deeplwithpython\\lib\\site-packages\\sklearn\\linear_model\\_sag.py:328: ConvergenceWarning: The max_iter was reached which means the coef_ did not converge\n",
      "  warnings.warn(\"The max_iter was reached which means \"\n",
      "C:\\Users\\marec\\miniconda3\\envs\\deeplwithpython\\lib\\site-packages\\sklearn\\linear_model\\_sag.py:328: ConvergenceWarning: The max_iter was reached which means the coef_ did not converge\n",
      "  warnings.warn(\"The max_iter was reached which means \"\n",
      "C:\\Users\\marec\\miniconda3\\envs\\deeplwithpython\\lib\\site-packages\\sklearn\\linear_model\\_sag.py:328: ConvergenceWarning: The max_iter was reached which means the coef_ did not converge\n",
      "  warnings.warn(\"The max_iter was reached which means \"\n",
      "C:\\Users\\marec\\miniconda3\\envs\\deeplwithpython\\lib\\site-packages\\sklearn\\linear_model\\_sag.py:328: ConvergenceWarning: The max_iter was reached which means the coef_ did not converge\n",
      "  warnings.warn(\"The max_iter was reached which means \"\n",
      "C:\\Users\\marec\\miniconda3\\envs\\deeplwithpython\\lib\\site-packages\\sklearn\\linear_model\\_sag.py:328: ConvergenceWarning: The max_iter was reached which means the coef_ did not converge\n",
      "  warnings.warn(\"The max_iter was reached which means \"\n",
      "C:\\Users\\marec\\miniconda3\\envs\\deeplwithpython\\lib\\site-packages\\sklearn\\linear_model\\_sag.py:328: ConvergenceWarning: The max_iter was reached which means the coef_ did not converge\n",
      "  warnings.warn(\"The max_iter was reached which means \"\n",
      "C:\\Users\\marec\\miniconda3\\envs\\deeplwithpython\\lib\\site-packages\\sklearn\\linear_model\\_sag.py:328: ConvergenceWarning: The max_iter was reached which means the coef_ did not converge\n",
      "  warnings.warn(\"The max_iter was reached which means \"\n",
      "C:\\Users\\marec\\miniconda3\\envs\\deeplwithpython\\lib\\site-packages\\sklearn\\linear_model\\_sag.py:328: ConvergenceWarning: The max_iter was reached which means the coef_ did not converge\n",
      "  warnings.warn(\"The max_iter was reached which means \"\n",
      "C:\\Users\\marec\\miniconda3\\envs\\deeplwithpython\\lib\\site-packages\\sklearn\\linear_model\\_sag.py:328: ConvergenceWarning: The max_iter was reached which means the coef_ did not converge\n",
      "  warnings.warn(\"The max_iter was reached which means \"\n",
      "C:\\Users\\marec\\miniconda3\\envs\\deeplwithpython\\lib\\site-packages\\sklearn\\linear_model\\_sag.py:328: ConvergenceWarning: The max_iter was reached which means the coef_ did not converge\n",
      "  warnings.warn(\"The max_iter was reached which means \"\n",
      "C:\\Users\\marec\\miniconda3\\envs\\deeplwithpython\\lib\\site-packages\\sklearn\\linear_model\\_sag.py:328: ConvergenceWarning: The max_iter was reached which means the coef_ did not converge\n",
      "  warnings.warn(\"The max_iter was reached which means \"\n",
      "C:\\Users\\marec\\miniconda3\\envs\\deeplwithpython\\lib\\site-packages\\sklearn\\linear_model\\_sag.py:328: ConvergenceWarning: The max_iter was reached which means the coef_ did not converge\n",
      "  warnings.warn(\"The max_iter was reached which means \"\n",
      "C:\\Users\\marec\\miniconda3\\envs\\deeplwithpython\\lib\\site-packages\\sklearn\\linear_model\\_sag.py:328: ConvergenceWarning: The max_iter was reached which means the coef_ did not converge\n",
      "  warnings.warn(\"The max_iter was reached which means \"\n",
      "C:\\Users\\marec\\miniconda3\\envs\\deeplwithpython\\lib\\site-packages\\sklearn\\linear_model\\_sag.py:328: ConvergenceWarning: The max_iter was reached which means the coef_ did not converge\n",
      "  warnings.warn(\"The max_iter was reached which means \"\n",
      "C:\\Users\\marec\\miniconda3\\envs\\deeplwithpython\\lib\\site-packages\\sklearn\\linear_model\\_sag.py:328: ConvergenceWarning: The max_iter was reached which means the coef_ did not converge\n",
      "  warnings.warn(\"The max_iter was reached which means \"\n",
      "C:\\Users\\marec\\miniconda3\\envs\\deeplwithpython\\lib\\site-packages\\sklearn\\linear_model\\_sag.py:328: ConvergenceWarning: The max_iter was reached which means the coef_ did not converge\n",
      "  warnings.warn(\"The max_iter was reached which means \"\n",
      "C:\\Users\\marec\\miniconda3\\envs\\deeplwithpython\\lib\\site-packages\\sklearn\\linear_model\\_sag.py:328: ConvergenceWarning: The max_iter was reached which means the coef_ did not converge\n",
      "  warnings.warn(\"The max_iter was reached which means \"\n",
      "C:\\Users\\marec\\miniconda3\\envs\\deeplwithpython\\lib\\site-packages\\sklearn\\linear_model\\_sag.py:328: ConvergenceWarning: The max_iter was reached which means the coef_ did not converge\n",
      "  warnings.warn(\"The max_iter was reached which means \"\n",
      "C:\\Users\\marec\\miniconda3\\envs\\deeplwithpython\\lib\\site-packages\\sklearn\\linear_model\\_sag.py:328: ConvergenceWarning: The max_iter was reached which means the coef_ did not converge\n",
      "  warnings.warn(\"The max_iter was reached which means \"\n",
      "C:\\Users\\marec\\miniconda3\\envs\\deeplwithpython\\lib\\site-packages\\sklearn\\linear_model\\_sag.py:328: ConvergenceWarning: The max_iter was reached which means the coef_ did not converge\n",
      "  warnings.warn(\"The max_iter was reached which means \"\n",
      "C:\\Users\\marec\\miniconda3\\envs\\deeplwithpython\\lib\\site-packages\\sklearn\\linear_model\\_sag.py:328: ConvergenceWarning: The max_iter was reached which means the coef_ did not converge\n",
      "  warnings.warn(\"The max_iter was reached which means \"\n",
      "C:\\Users\\marec\\miniconda3\\envs\\deeplwithpython\\lib\\site-packages\\sklearn\\linear_model\\_sag.py:328: ConvergenceWarning: The max_iter was reached which means the coef_ did not converge\n",
      "  warnings.warn(\"The max_iter was reached which means \"\n",
      "C:\\Users\\marec\\miniconda3\\envs\\deeplwithpython\\lib\\site-packages\\sklearn\\linear_model\\_sag.py:328: ConvergenceWarning: The max_iter was reached which means the coef_ did not converge\n",
      "  warnings.warn(\"The max_iter was reached which means \"\n",
      "C:\\Users\\marec\\miniconda3\\envs\\deeplwithpython\\lib\\site-packages\\sklearn\\linear_model\\_sag.py:328: ConvergenceWarning: The max_iter was reached which means the coef_ did not converge\n",
      "  warnings.warn(\"The max_iter was reached which means \"\n",
      "C:\\Users\\marec\\miniconda3\\envs\\deeplwithpython\\lib\\site-packages\\sklearn\\linear_model\\_sag.py:328: ConvergenceWarning: The max_iter was reached which means the coef_ did not converge\n",
      "  warnings.warn(\"The max_iter was reached which means \"\n",
      "C:\\Users\\marec\\miniconda3\\envs\\deeplwithpython\\lib\\site-packages\\sklearn\\linear_model\\_sag.py:328: ConvergenceWarning: The max_iter was reached which means the coef_ did not converge\n",
      "  warnings.warn(\"The max_iter was reached which means \"\n",
      "C:\\Users\\marec\\miniconda3\\envs\\deeplwithpython\\lib\\site-packages\\sklearn\\linear_model\\_sag.py:328: ConvergenceWarning: The max_iter was reached which means the coef_ did not converge\n",
      "  warnings.warn(\"The max_iter was reached which means \"\n",
      "C:\\Users\\marec\\miniconda3\\envs\\deeplwithpython\\lib\\site-packages\\sklearn\\linear_model\\_sag.py:328: ConvergenceWarning: The max_iter was reached which means the coef_ did not converge\n",
      "  warnings.warn(\"The max_iter was reached which means \"\n",
      "C:\\Users\\marec\\miniconda3\\envs\\deeplwithpython\\lib\\site-packages\\sklearn\\linear_model\\_sag.py:328: ConvergenceWarning: The max_iter was reached which means the coef_ did not converge\n",
      "  warnings.warn(\"The max_iter was reached which means \"\n",
      "C:\\Users\\marec\\miniconda3\\envs\\deeplwithpython\\lib\\site-packages\\sklearn\\linear_model\\_sag.py:328: ConvergenceWarning: The max_iter was reached which means the coef_ did not converge\n",
      "  warnings.warn(\"The max_iter was reached which means \"\n"
     ]
    },
    {
     "data": {
      "text/plain": [
       "GridSearchCV(cv=5,\n",
       "             estimator=LogisticRegression(penalty='elasticnet', solver='saga'),\n",
       "             param_grid={'l1_ratio': array([1.00000000e-04, 1.20679264e-04, 1.45634848e-04, 1.75751062e-04,\n",
       "       2.12095089e-04, 2.55954792e-04, 3.08884360e-04, 3.72759372e-04,\n",
       "       4.49843267e-04, 5.42867544e-04, 6.55128557e-04, 7.90604321e-04,\n",
       "       9.54095476e-04, 1.15139540e-03, 1.38949549e-03, 1.67683294e-...\n",
       "       9.10298178e-03, 1.09854114e-02, 1.32571137e-02, 1.59985872e-02,\n",
       "       1.93069773e-02, 2.32995181e-02, 2.81176870e-02, 3.39322177e-02,\n",
       "       4.09491506e-02, 4.94171336e-02, 5.96362332e-02, 7.19685673e-02,\n",
       "       8.68511374e-02, 1.04811313e-01, 1.26485522e-01, 1.52641797e-01,\n",
       "       1.84206997e-01, 2.22299648e-01, 2.68269580e-01, 3.23745754e-01,\n",
       "       3.90693994e-01, 4.71486636e-01, 5.68986603e-01, 6.86648845e-01,\n",
       "       8.28642773e-01, 1.00000000e+00])})"
      ]
     },
     "execution_count": 249,
     "metadata": {},
     "output_type": "execute_result"
    }
   ],
   "source": [
    "from sklearn.linear_model import LogisticRegression\n",
    "from sklearn.metrics import accuracy_score\n",
    "from sklearn.model_selection import GridSearchCV\n",
    "\n",
    "param = {\"l1_ratio\":np.logspace(-4,0)}\n",
    "\n",
    "reglog = LogisticRegression(penalty=\"l1\",\n",
    "                            solver = 'saga')\n",
    "\n",
    "grid = GridSearchCV(reglog,\n",
    "                    param,\n",
    "                    cv=5)\n",
    "\n",
    "grid.fit(X_train[:400,:10],y_train[:400])\n",
    "\n",
    "\n",
    "\n"
   ]
  },
  {
   "cell_type": "code",
   "execution_count": 243,
   "id": "dangerous-drilling",
   "metadata": {},
   "outputs": [
    {
     "data": {
      "text/plain": [
       "array([[1.],\n",
       "       [0.],\n",
       "       [0.],\n",
       "       ...,\n",
       "       [0.],\n",
       "       [1.],\n",
       "       [0.]])"
      ]
     },
     "execution_count": 243,
     "metadata": {},
     "output_type": "execute_result"
    }
   ],
   "source": [
    "y_train.reshape((-1,1))"
   ]
  }
 ],
 "metadata": {
  "kernelspec": {
   "display_name": "Python 3",
   "language": "python",
   "name": "python3"
  },
  "language_info": {
   "codemirror_mode": {
    "name": "ipython",
    "version": 3
   },
   "file_extension": ".py",
   "mimetype": "text/x-python",
   "name": "python",
   "nbconvert_exporter": "python",
   "pygments_lexer": "ipython3",
   "version": "3.8.8"
  }
 },
 "nbformat": 4,
 "nbformat_minor": 5
}
