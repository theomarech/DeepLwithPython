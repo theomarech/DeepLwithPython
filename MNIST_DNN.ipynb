{
 "cells": [
  {
   "cell_type": "markdown",
   "id": "political-finish",
   "metadata": {},
   "source": [
    "# Introduction au réseau de neurones dense avec python (keras tensorflow)"
   ]
  },
  {
   "cell_type": "code",
   "execution_count": null,
   "id": "changed-element",
   "metadata": {},
   "outputs": [],
   "source": [
    "import numpy as np\n",
    "import seaborn as sns"
   ]
  }
 ],
 "metadata": {
  "kernelspec": {
   "display_name": "Python 3",
   "language": "python",
   "name": "python3"
  },
  "language_info": {
   "codemirror_mode": {
    "name": "ipython",
    "version": 3
   },
   "file_extension": ".py",
   "mimetype": "text/x-python",
   "name": "python",
   "nbconvert_exporter": "python",
   "pygments_lexer": "ipython3",
   "version": "3.8.8"
  }
 },
 "nbformat": 4,
 "nbformat_minor": 5
}
